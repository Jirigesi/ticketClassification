{
 "cells": [
  {
   "cell_type": "code",
   "execution_count": 1,
   "metadata": {},
   "outputs": [],
   "source": [
    "import pandas as pd"
   ]
  },
  {
   "cell_type": "code",
   "execution_count": 41,
   "metadata": {},
   "outputs": [],
   "source": [
    "val_result = pd.read_csv(\"val_result.csv\")\n"
   ]
  },
  {
   "cell_type": "code",
   "execution_count": 42,
   "metadata": {},
   "outputs": [
    {
     "data": {
      "text/html": [
       "<div>\n",
       "<style scoped>\n",
       "    .dataframe tbody tr th:only-of-type {\n",
       "        vertical-align: middle;\n",
       "    }\n",
       "\n",
       "    .dataframe tbody tr th {\n",
       "        vertical-align: top;\n",
       "    }\n",
       "\n",
       "    .dataframe thead th {\n",
       "        text-align: right;\n",
       "    }\n",
       "</style>\n",
       "<table border=\"1\" class=\"dataframe\">\n",
       "  <thead>\n",
       "    <tr style=\"text-align: right;\">\n",
       "      <th></th>\n",
       "      <th>label</th>\n",
       "      <th>prediction</th>\n",
       "    </tr>\n",
       "  </thead>\n",
       "  <tbody>\n",
       "    <tr>\n",
       "      <th>0</th>\n",
       "      <td>tensor([0], dtype=torch.int32)</td>\n",
       "      <td>tensor([0.1028])</td>\n",
       "    </tr>\n",
       "    <tr>\n",
       "      <th>1</th>\n",
       "      <td>tensor([1], dtype=torch.int32)</td>\n",
       "      <td>tensor([0.1140])</td>\n",
       "    </tr>\n",
       "    <tr>\n",
       "      <th>2</th>\n",
       "      <td>tensor([0], dtype=torch.int32)</td>\n",
       "      <td>tensor([0.1479])</td>\n",
       "    </tr>\n",
       "    <tr>\n",
       "      <th>3</th>\n",
       "      <td>tensor([1], dtype=torch.int32)</td>\n",
       "      <td>tensor([0.7371])</td>\n",
       "    </tr>\n",
       "    <tr>\n",
       "      <th>4</th>\n",
       "      <td>tensor([1], dtype=torch.int32)</td>\n",
       "      <td>tensor([0.4863])</td>\n",
       "    </tr>\n",
       "    <tr>\n",
       "      <th>...</th>\n",
       "      <td>...</td>\n",
       "      <td>...</td>\n",
       "    </tr>\n",
       "    <tr>\n",
       "      <th>5480</th>\n",
       "      <td>tensor([0], dtype=torch.int32)</td>\n",
       "      <td>tensor([0.9659])</td>\n",
       "    </tr>\n",
       "    <tr>\n",
       "      <th>5481</th>\n",
       "      <td>tensor([0], dtype=torch.int32)</td>\n",
       "      <td>tensor([0.4273])</td>\n",
       "    </tr>\n",
       "    <tr>\n",
       "      <th>5482</th>\n",
       "      <td>tensor([0], dtype=torch.int32)</td>\n",
       "      <td>tensor([0.9085])</td>\n",
       "    </tr>\n",
       "    <tr>\n",
       "      <th>5483</th>\n",
       "      <td>tensor([1], dtype=torch.int32)</td>\n",
       "      <td>tensor([0.0205])</td>\n",
       "    </tr>\n",
       "    <tr>\n",
       "      <th>5484</th>\n",
       "      <td>tensor([0], dtype=torch.int32)</td>\n",
       "      <td>tensor([0.0468])</td>\n",
       "    </tr>\n",
       "  </tbody>\n",
       "</table>\n",
       "<p>5485 rows × 2 columns</p>\n",
       "</div>"
      ],
      "text/plain": [
       "                               label        prediction\n",
       "0     tensor([0], dtype=torch.int32)  tensor([0.1028])\n",
       "1     tensor([1], dtype=torch.int32)  tensor([0.1140])\n",
       "2     tensor([0], dtype=torch.int32)  tensor([0.1479])\n",
       "3     tensor([1], dtype=torch.int32)  tensor([0.7371])\n",
       "4     tensor([1], dtype=torch.int32)  tensor([0.4863])\n",
       "...                              ...               ...\n",
       "5480  tensor([0], dtype=torch.int32)  tensor([0.9659])\n",
       "5481  tensor([0], dtype=torch.int32)  tensor([0.4273])\n",
       "5482  tensor([0], dtype=torch.int32)  tensor([0.9085])\n",
       "5483  tensor([1], dtype=torch.int32)  tensor([0.0205])\n",
       "5484  tensor([0], dtype=torch.int32)  tensor([0.0468])\n",
       "\n",
       "[5485 rows x 2 columns]"
      ]
     },
     "execution_count": 42,
     "metadata": {},
     "output_type": "execute_result"
    }
   ],
   "source": [
    "val_result"
   ]
  },
  {
   "cell_type": "code",
   "execution_count": 43,
   "metadata": {},
   "outputs": [],
   "source": [
    "labels = []\n",
    "for index, row in val_result.iterrows():\n",
    "    label = row['label'].split('[')[1].split(']')[0]\n",
    "    labels.append(int(label))"
   ]
  },
  {
   "cell_type": "code",
   "execution_count": 44,
   "metadata": {},
   "outputs": [
    {
     "data": {
      "text/plain": [
       "5485"
      ]
     },
     "execution_count": 44,
     "metadata": {},
     "output_type": "execute_result"
    }
   ],
   "source": [
    "len(labels)"
   ]
  },
  {
   "cell_type": "code",
   "execution_count": 45,
   "metadata": {},
   "outputs": [],
   "source": [
    "predictions = []\n",
    "for index, row in val_result.iterrows():\n",
    "    prediction = row['prediction'].split('[')[1].split(']')[0]\n",
    "    predictions.append(float(prediction))"
   ]
  },
  {
   "cell_type": "code",
   "execution_count": 46,
   "metadata": {},
   "outputs": [],
   "source": [
    "val_result[\"predictions\"] = predictions"
   ]
  },
  {
   "cell_type": "code",
   "execution_count": 47,
   "metadata": {},
   "outputs": [],
   "source": [
    "val_result[\"labels\"] = labels"
   ]
  },
  {
   "cell_type": "code",
   "execution_count": 48,
   "metadata": {},
   "outputs": [
    {
     "data": {
      "text/html": [
       "<div>\n",
       "<style scoped>\n",
       "    .dataframe tbody tr th:only-of-type {\n",
       "        vertical-align: middle;\n",
       "    }\n",
       "\n",
       "    .dataframe tbody tr th {\n",
       "        vertical-align: top;\n",
       "    }\n",
       "\n",
       "    .dataframe thead th {\n",
       "        text-align: right;\n",
       "    }\n",
       "</style>\n",
       "<table border=\"1\" class=\"dataframe\">\n",
       "  <thead>\n",
       "    <tr style=\"text-align: right;\">\n",
       "      <th></th>\n",
       "      <th>label</th>\n",
       "      <th>prediction</th>\n",
       "      <th>predictions</th>\n",
       "      <th>labels</th>\n",
       "    </tr>\n",
       "  </thead>\n",
       "  <tbody>\n",
       "    <tr>\n",
       "      <th>0</th>\n",
       "      <td>tensor([0], dtype=torch.int32)</td>\n",
       "      <td>tensor([0.1028])</td>\n",
       "      <td>0.1028</td>\n",
       "      <td>0</td>\n",
       "    </tr>\n",
       "    <tr>\n",
       "      <th>1</th>\n",
       "      <td>tensor([1], dtype=torch.int32)</td>\n",
       "      <td>tensor([0.1140])</td>\n",
       "      <td>0.1140</td>\n",
       "      <td>1</td>\n",
       "    </tr>\n",
       "    <tr>\n",
       "      <th>2</th>\n",
       "      <td>tensor([0], dtype=torch.int32)</td>\n",
       "      <td>tensor([0.1479])</td>\n",
       "      <td>0.1479</td>\n",
       "      <td>0</td>\n",
       "    </tr>\n",
       "    <tr>\n",
       "      <th>3</th>\n",
       "      <td>tensor([1], dtype=torch.int32)</td>\n",
       "      <td>tensor([0.7371])</td>\n",
       "      <td>0.7371</td>\n",
       "      <td>1</td>\n",
       "    </tr>\n",
       "    <tr>\n",
       "      <th>4</th>\n",
       "      <td>tensor([1], dtype=torch.int32)</td>\n",
       "      <td>tensor([0.4863])</td>\n",
       "      <td>0.4863</td>\n",
       "      <td>1</td>\n",
       "    </tr>\n",
       "    <tr>\n",
       "      <th>...</th>\n",
       "      <td>...</td>\n",
       "      <td>...</td>\n",
       "      <td>...</td>\n",
       "      <td>...</td>\n",
       "    </tr>\n",
       "    <tr>\n",
       "      <th>5480</th>\n",
       "      <td>tensor([0], dtype=torch.int32)</td>\n",
       "      <td>tensor([0.9659])</td>\n",
       "      <td>0.9659</td>\n",
       "      <td>0</td>\n",
       "    </tr>\n",
       "    <tr>\n",
       "      <th>5481</th>\n",
       "      <td>tensor([0], dtype=torch.int32)</td>\n",
       "      <td>tensor([0.4273])</td>\n",
       "      <td>0.4273</td>\n",
       "      <td>0</td>\n",
       "    </tr>\n",
       "    <tr>\n",
       "      <th>5482</th>\n",
       "      <td>tensor([0], dtype=torch.int32)</td>\n",
       "      <td>tensor([0.9085])</td>\n",
       "      <td>0.9085</td>\n",
       "      <td>0</td>\n",
       "    </tr>\n",
       "    <tr>\n",
       "      <th>5483</th>\n",
       "      <td>tensor([1], dtype=torch.int32)</td>\n",
       "      <td>tensor([0.0205])</td>\n",
       "      <td>0.0205</td>\n",
       "      <td>1</td>\n",
       "    </tr>\n",
       "    <tr>\n",
       "      <th>5484</th>\n",
       "      <td>tensor([0], dtype=torch.int32)</td>\n",
       "      <td>tensor([0.0468])</td>\n",
       "      <td>0.0468</td>\n",
       "      <td>0</td>\n",
       "    </tr>\n",
       "  </tbody>\n",
       "</table>\n",
       "<p>5485 rows × 4 columns</p>\n",
       "</div>"
      ],
      "text/plain": [
       "                               label        prediction  predictions  labels\n",
       "0     tensor([0], dtype=torch.int32)  tensor([0.1028])       0.1028       0\n",
       "1     tensor([1], dtype=torch.int32)  tensor([0.1140])       0.1140       1\n",
       "2     tensor([0], dtype=torch.int32)  tensor([0.1479])       0.1479       0\n",
       "3     tensor([1], dtype=torch.int32)  tensor([0.7371])       0.7371       1\n",
       "4     tensor([1], dtype=torch.int32)  tensor([0.4863])       0.4863       1\n",
       "...                              ...               ...          ...     ...\n",
       "5480  tensor([0], dtype=torch.int32)  tensor([0.9659])       0.9659       0\n",
       "5481  tensor([0], dtype=torch.int32)  tensor([0.4273])       0.4273       0\n",
       "5482  tensor([0], dtype=torch.int32)  tensor([0.9085])       0.9085       0\n",
       "5483  tensor([1], dtype=torch.int32)  tensor([0.0205])       0.0205       1\n",
       "5484  tensor([0], dtype=torch.int32)  tensor([0.0468])       0.0468       0\n",
       "\n",
       "[5485 rows x 4 columns]"
      ]
     },
     "execution_count": 48,
     "metadata": {},
     "output_type": "execute_result"
    }
   ],
   "source": [
    "val_result"
   ]
  },
  {
   "cell_type": "code",
   "execution_count": 49,
   "metadata": {},
   "outputs": [
    {
     "data": {
      "image/png": "[encoded data removed]",
      "text/plain": [
       "<Figure size 432x288 with 1 Axes>"
      ]
     },
     "metadata": {
      "needs_background": "light"
     },
     "output_type": "display_data"
    }
   ],
   "source": [
    "import sklearn.metrics as metrics\n",
    "import matplotlib.pyplot as plt\n",
    "\n",
    "\n",
    "fpr, tpr, threshold = metrics.roc_curve(labels, predictions)\n",
    "roc_auc = metrics.auc(fpr, tpr)\n",
    "\n",
    "plt.title('ROC Curve')\n",
    "plt.plot(fpr, tpr, 'b', label = 'AUC = %0.2f' % roc_auc)\n",
    "plt.legend(loc = 'lower right')\n",
    "plt.plot([0, 1], [0, 1],'r--')\n",
    "plt.xlim([0, 1])\n",
    "plt.ylim([0, 1])\n",
    "plt.ylabel('True Positive Rate')\n",
    "plt.xlabel('False Positive Rate')\n",
    "plt.show()"
   ]
  },
  {
   "cell_type": "code",
   "execution_count": 50,
   "metadata": {},
   "outputs": [],
   "source": [
    "import numpy as np\n",
    "\n",
    "def Find_Optimal_Cutoff(target, predicted):\n",
    "    \"\"\" Find the optimal probability cutoff point for a classification model related to event rate\n",
    "    Parameters\n",
    "    ----------\n",
    "    target : Matrix with dependent or target data, where rows are observations\n",
    "\n",
    "    predicted : Matrix with predicted data, where rows are observations\n",
    "\n",
    "    Returns\n",
    "    -------     \n",
    "    list type, with optimal cutoff value\n",
    "        \n",
    "    \"\"\"\n",
    "    fpr, tpr, threshold = metrics.roc_curve(target, predicted)\n",
    "    i = np.arange(len(tpr)) \n",
    "    roc = pd.DataFrame({'tf' : pd.Series(tpr-(1-fpr), index=i), 'threshold' : pd.Series(threshold, index=i)})\n",
    "    roc_t = roc.iloc[(roc.tf-0).abs().argsort()[:1]]\n",
    "\n",
    "    return list(roc_t['threshold']) "
   ]
  },
  {
   "cell_type": "code",
   "execution_count": 51,
   "metadata": {},
   "outputs": [],
   "source": [
    "threshold = Find_Optimal_Cutoff(labels, predictions)"
   ]
  },
  {
   "cell_type": "code",
   "execution_count": 52,
   "metadata": {},
   "outputs": [
    {
     "data": {
      "text/plain": [
       "[0.5364]"
      ]
     },
     "execution_count": 52,
     "metadata": {},
     "output_type": "execute_result"
    }
   ],
   "source": [
    "threshold"
   ]
  },
  {
   "cell_type": "code",
   "execution_count": 53,
   "metadata": {},
   "outputs": [
    {
     "name": "stdout",
     "output_type": "stream",
     "text": [
      "              precision    recall  f1-score   support\n",
      "\n",
      "           0       0.81      0.63      0.71      3905\n",
      "           1       0.41      0.63      0.50      1580\n",
      "\n",
      "    accuracy                           0.63      5485\n",
      "   macro avg       0.61      0.63      0.60      5485\n",
      "weighted avg       0.70      0.63      0.65      5485\n",
      "\n"
     ]
    }
   ],
   "source": [
    "from sklearn.metrics import classification_report\n",
    "\n",
    "results = []\n",
    "for i in predictions:\n",
    "  if i >= threshold[0]:\n",
    "    results.append(1)\n",
    "  else:\n",
    "    results.append(0)\n",
    "print(classification_report(labels, results))"
   ]
  },
  {
   "cell_type": "code",
   "execution_count": null,
   "metadata": {},
   "outputs": [],
   "source": []
  }
 ],
 "metadata": {
  "kernelspec": {
   "display_name": "Python 3",
   "language": "python",
   "name": "python3"
  },
  "language_info": {
   "codemirror_mode": {
    "name": "ipython",
    "version": 3
   },
   "file_extension": ".py",
   "mimetype": "text/x-python",
   "name": "python",
   "nbconvert_exporter": "python",
   "pygments_lexer": "ipython3",
   "version": "3.8.5"
  }
 },
 "nbformat": 4,
 "nbformat_minor": 4
}
